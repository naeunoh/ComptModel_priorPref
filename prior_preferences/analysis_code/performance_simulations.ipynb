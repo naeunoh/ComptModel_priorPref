{
 "cells": [
  {
   "cell_type": "markdown",
   "metadata": {},
   "source": [
    "T. Tarantola, D. Kumaran, P. Dayan, & B. De Martino. (in press) Prior preferences beneficially influence social and non-social learning. Nature Communications.\n",
    "\n",
    "Modified by Naeun Oh & SeongJae Park\n",
    "\n",
    "Notebook for Performance Simulations"
   ]
  },
  {
   "cell_type": "markdown",
   "metadata": {},
   "source": [
    "#Performance simulations"
   ]
  },
  {
   "cell_type": "code",
   "execution_count": 402,
   "metadata": {
    "collapsed": false
   },
   "outputs": [],
   "source": [
    "import numpy as np\n",
    "import pandas as pd\n",
    "import math\n",
    "import scipy.misc\n",
    "import pystan\n",
    "import matplotlib as mpl\n",
    "import matplotlib.pyplot as plt\n",
    "import matplotlib.patches as mpatches\n",
    "import pickle\n",
    "import pylab as pl\n",
    "import seaborn as sns\n",
    "\n",
    "plt.rcParams['svg.fonttype'] = 'none'\n",
    "\n",
    "%matplotlib inline"
   ]
  },
  {
   "cell_type": "code",
   "execution_count": 403,
   "metadata": {
    "collapsed": true
   },
   "outputs": [],
   "source": [
    "# def softmax(beta, a, b=0): # Beta = exploration parameter; a = value of modeled choice\n",
    "#     e = np.exp(beta*a)\n",
    "#     e_alt = np.exp(beta*b)\n",
    "#     prob = e / (e + e_alt)\n",
    "#     return prob\n",
    "\n",
    "def softmax(x):\n",
    "    e = np.exp(x)\n",
    "    e_alt = np.exp(0)\n",
    "    prob = e / (e + e_alt)\n",
    "    return prob\n",
    "\n",
    "def prob(prior,n,x,p=0.8):  \n",
    "    \"\"\"\n",
    "    Bayes's rule for the binomial distribution\n",
    "    prior is the initial prior\n",
    "    n is the number of feedback boxes seen so far for this item pair (current trial minus 1)\n",
    "    x is the number of correct feedback boxes seen so far for this item pair\n",
    "    \"\"\"\n",
    "    q = 1-p\n",
    "    n_fac = scipy.special.factorial(n) # n!\n",
    "    x_fac = scipy.special.factorial(x) # x!\n",
    "    n_minus_x_fac = scipy.special.factorial((n-x)) # (n-x)!\n",
    "    P_data_correct = ((n_fac)/(x_fac * n_minus_x_fac))*(p**x)*(q**(n-x)) # Probability of x successes if correct answer is assumed to be correct\n",
    "    P_data_wrong = ((n_fac)/(x_fac * n_minus_x_fac))*(q**x)*(p**(n-x)) # Probability of x successes if wrong answer is assumed to be correct; just switched p and q\n",
    "    P_correct_data = (P_data_correct * prior)/( (P_data_correct * prior) + (P_data_wrong * (1-prior)) )\n",
    "    return P_correct_data\n",
    "\n",
    "def correct_prob(p_corr, a, z, drift_weight):\n",
    "    prob = np.empty(shape=p_corr.shape)\n",
    "    v = drift_weight*((2*p_corr) - 1)\n",
    "    \n",
    "    prob[np.where(v==0)] = z[np.where(v==0)]\n",
    "    prob[np.where(v!=0)] = 1 - ( (1 - np.exp(-2*v[np.where(v!=0)]*a*(1-z[np.where(v!=0)])) ) / (np.exp(2*v[np.where(v!=0)]*a*z[np.where(v!=0)]) - np.exp(-2*v[np.where(v!=0)]*a*(1-z[np.where(v!=0)])) ) )\n",
    "    return prob"
   ]
  },
  {
   "cell_type": "markdown",
   "metadata": {},
   "source": [
    "#Preference match matrix"
   ]
  },
  {
   "cell_type": "markdown",
   "metadata": {},
   "source": [
    "##Actual preference data"
   ]
  },
  {
   "cell_type": "code",
   "execution_count": 404,
   "metadata": {
    "collapsed": false
   },
   "outputs": [],
   "source": [
    "data = pd.read_pickle('../data/social/data_processed_social_wexclusions.pkl')\n",
    "control_data = pd.read_pickle('../data/non_social/data_processed_non_social_wexclusions.pkl')\n",
    "# Concatenate social and control data sets\n",
    "tojoin = [data,control_data]\n",
    "data_combined = pd.concat(tojoin)"
   ]
  },
  {
   "cell_type": "code",
   "execution_count": 405,
   "metadata": {
    "collapsed": false
   },
   "outputs": [],
   "source": [
    "# Create a dataframe to hold a tally of preferred items\n",
    "# A separate tally set is recorded for each participant, so that the participant's own preference is not recorded in the tally corresponding to them\n",
    "data = data[data['block_loop_thisN'].notnull() & data['img_correct'].notnull()]\n",
    "items = data_items.img_correct.unique()\n",
    "items = items[:20]"
   ]
  },
  {
   "cell_type": "code",
   "execution_count": 406,
   "metadata": {
    "collapsed": false
   },
   "outputs": [],
   "source": [
    "prefs = pd.DataFrame(items, columns=['item'])\n",
    "for i in items:\n",
    "    prefs.loc[(prefs.item==i),'other_item'] = data_items.loc[(data_items.choice_left==i)].choice_right.values[0]"
   ]
  },
  {
   "cell_type": "code",
   "execution_count": 407,
   "metadata": {
    "collapsed": false
   },
   "outputs": [],
   "source": [
    "def extract_dv_first(participant):\n",
    "    dv = np.empty((20))\n",
    "    for i in range(0,len(prefs.item)):\n",
    "        item = prefs.item[i]\n",
    "        other_item = prefs.other_item[i]\n",
    "        dv[i] = data_combined.loc[((data_combined.participant==participant)&(data_combined.bdm_img==item)),'bdm_bid1_response'].values[0] - data_combined.loc[((data_combined.participant==participant)&(data_combined.bdm_img==other_item)),'bdm_bid1_response'].values[0] \n",
    "    return dv"
   ]
  },
  {
   "cell_type": "code",
   "execution_count": 408,
   "metadata": {
    "collapsed": true
   },
   "outputs": [],
   "source": [
    "dv_first_list = np.empty((61,20))\n",
    "for p in range(0,len(data_combined.participant.unique())):\n",
    "    dv_first_list[p,:] = extract_dv_first(data_combined.participant.unique()[p])"
   ]
  },
  {
   "cell_type": "code",
   "execution_count": 409,
   "metadata": {
    "collapsed": false
   },
   "outputs": [],
   "source": [
    "def extract_dv_correct(participant, target):\n",
    "    p_dv = dv_first_list[participant,:]\n",
    "    target_dv = dv_first_list[target,:]\n",
    "    dv_correct = np.empty(20)\n",
    "    for i in range(20):\n",
    "        if target_dv[i]==0: # If the target showed no preference, choose one at random\n",
    "            dv_correct[i] = (np.random.choice([-1,1]))*p_dv[i]\n",
    "        elif target_dv[i] <0:\n",
    "            dv_correct[i] = -p_dv[i]\n",
    "        elif target_dv[i] >0:\n",
    "            dv_correct[i] = p_dv[i]\n",
    "    \n",
    "    return dv_correct"
   ]
  },
  {
   "cell_type": "code",
   "execution_count": 410,
   "metadata": {
    "collapsed": false
   },
   "outputs": [],
   "source": [
    "dv_correct_all_matches = np.empty((61*60,20))\n",
    "for p in range(61):\n",
    "    it = 0\n",
    "    for i in [x for x in range(61) if x !=p]:\n",
    "        dv_correct_all_matches[(p*60 + it), :] = extract_dv_correct(p, i)\n",
    "        it += 1"
   ]
  },
  {
   "cell_type": "markdown",
   "metadata": {},
   "source": [
    "#Get item_popularity \n",
    "#We Made This Code"
   ]
  },
  {
   "cell_type": "code",
   "execution_count": 412,
   "metadata": {},
   "outputs": [],
   "source": [
    "data_wpop = pd.read_pickle(r'../data/social/data_processed_social_wexclusions_wpopularity.pkl')\n",
    "control_data_wpop = pd.read_pickle(r'../data/non_social/data_processed_non_social_wexclusions_wpopularity.pkl')\n",
    "tojoin_wpop = [data_wpop,control_data_wpop]\n",
    "data_wpop_combined = pd.concat(tojoin_wpop)\n",
    "data_wpop_combined = data_wpop_combined[data_wpop_combined['block_loop_thisN'].notnull() & data_wpop_combined['img_correct'].notnull()]"
   ]
  },
  {
   "cell_type": "code",
   "execution_count": 413,
   "metadata": {},
   "outputs": [],
   "source": [
    "def extract_item_popularity_left(participant):\n",
    "    pop_left = np.empty((20))\n",
    "    for i in range(0,len(prefs.item)):\n",
    "        item = prefs.item[i]\n",
    "        other_item = prefs.other_item[i]\n",
    "        if item in data_wpop_combined.loc[data_wpop_combined.participant==participant,'img_correct'].unique():\n",
    "            pop_left[i] = data_wpop_combined.loc[((data_wpop_combined.participant==participant)&(data_wpop_combined.img_correct==item)),'ratio_prefer_correct'].values[0]\n",
    "        else:\n",
    "            pop_left[i] = data_wpop_combined.loc[((data_wpop_combined.participant==participant)&(data_wpop_combined.img_correct==other_item)),'ratio_prefer_wrong'].values[0] \n",
    "    return pop_left\n",
    "\n",
    "def extract_item_popularity_right(participant):\n",
    "    pop_right = np.empty((20))\n",
    "    for i in range(0,len(prefs.item)):\n",
    "        item = prefs.item[i]\n",
    "        other_item = prefs.other_item[i]\n",
    "        if other_item in data_wpop_combined.loc[data_wpop_combined.participant==participant,'img_correct'].unique():\n",
    "            pop_right[i] = data_wpop_combined.loc[((data_wpop_combined.participant==participant)&(data_wpop_combined.img_correct==other_item)),'ratio_prefer_correct'].values[0]\n",
    "        else:\n",
    "            pop_right[i] = data_wpop_combined.loc[((data_wpop_combined.participant==participant)&(data_wpop_combined.img_correct==item)),'ratio_prefer_wrong'].values[0] \n",
    "    return pop_right"
   ]
  },
  {
   "cell_type": "code",
   "execution_count": 414,
   "metadata": {},
   "outputs": [],
   "source": [
    "item_popularity_left = np.empty((61,20))\n",
    "for p in range(0,len(data_combined.participant.unique())):\n",
    "    item_popularity_left[p,:] = extract_item_popularity_left(data_combined.participant.unique()[p])\n",
    "item_popularity_right = np.empty((61,20))\n",
    "for p in range(0,len(data_combined.participant.unique())):\n",
    "    item_popularity_right[p,:] = extract_item_popularity_right(data_combined.participant.unique()[p])"
   ]
  },
  {
   "cell_type": "code",
   "execution_count": 415,
   "metadata": {},
   "outputs": [],
   "source": [
    "def extract_item_popularity_correct(participant, target):\n",
    "    target_dv = dv_first_list[target,:]\n",
    "    pop_correct = np.empty(20)\n",
    "    for i in range(20):\n",
    "        if target_dv[i]==0: # If the target showed no preference, choose one at random\n",
    "            pop_correct[i] = (np.random.choice([item_popularity_right[participant,i],item_popularity_left[participant,i]]))\n",
    "        elif target_dv[i] <0:\n",
    "            pop_correct[i] = item_popularity_right[participant,i]\n",
    "        elif target_dv[i] >0:\n",
    "            pop_correct[i] = item_popularity_left[participant,i]\n",
    "    \n",
    "    return pop_correct"
   ]
  },
  {
   "cell_type": "code",
   "execution_count": 416,
   "metadata": {},
   "outputs": [],
   "source": [
    "item_popularity_correct_all_matches = np.empty((61*60,20))\n",
    "for p in range(61):\n",
    "    it = 0\n",
    "    for i in [x for x in range(61) if x !=p]:\n",
    "        item_popularity_correct_all_matches[(p*60 + it), :] = extract_item_popularity_correct(p,i)\n",
    "        it += 1"
   ]
  },
  {
   "cell_type": "markdown",
   "metadata": {},
   "source": [
    "#Simulation code"
   ]
  },
  {
   "cell_type": "code",
   "execution_count": 419,
   "metadata": {
    "collapsed": false
   },
   "outputs": [],
   "source": [
    "def simulate(itr, dv_correct, drift_weight, learning_prior_temp, choice_bias_temp, threshold, popularity_prior_temp, popularity_bias_temp, item_popularity):\n",
    "    \"\"\"\n",
    "    Simulate learning another person's preferences with the mean of the group means of the estimated parameters from\n",
    "    the specified model\n",
    "\n",
    "    This function simulates a single participant learning the choices made by a single target\n",
    "    (20 items with 30 trials each), repeated a certain number of times ('itr') to allow for stochasticity in the\n",
    "    feedback that is presented\n",
    "\n",
    "    itr = the number of times each item is learned in the simulation\n",
    "    dv_correct = the preference congruence, based on bids, for the choices being learned\n",
    "    drift_weight = the mean of the group mean drift weight parameter from the chosen model\n",
    "        learning_prior_temp = the mean of the group mean inverse temperature parameter used to convert DV into the \n",
    "        prior for the Bayesian inference\n",
    "    choice_bias_temp = the mean of the group mean inverse temperature parameter used to convert DV into the\n",
    "        bias term in the drift process\n",
    "    threshold = the mean of the group mean drift threshold\n",
    "    popularity_prior_temp = the mean of the group mean inverse temperature parameter used to convert item_popularity into the\n",
    "        prior for the Bayesian inference\n",
    "    popularity_bias_temp = the mean of the group mean inverse temperature parameter used to convert item_popularity into the\n",
    "        bias term in the drift process\n",
    "    item_popularity = the item_popularity, based on the ratio of other people who bidded more for item being learned\n",
    "    \"\"\"\n",
    "\n",
    "    # Generate array of learning priors (item x iteration)\n",
    "    learning_priors = softmax((learning_prior_temp*dv_correct)+(popularity_prior_temp*(item_popularity-0.5)))\n",
    "    learning_priors = np.expand_dims(learning_priors, axis=1)\n",
    "    learning_priors = np.repeat(learning_priors, itr, axis=1)\n",
    "    learning_priors_expanded = np.expand_dims(learning_priors, axis=1)\n",
    "    learning_priors_expanded = np.repeat(learning_priors_expanded, 29, axis=1)\n",
    "\n",
    "    # Generate array of choice biases (item x iteration)\n",
    "    choice_biases = softmax((choice_bias_temp*dv_correct)+(popularity_bias_temp*(item_popularity-0.5)))\n",
    "    choice_biases = np.expand_dims(choice_biases, axis=1)\n",
    "    choice_biases = np.repeat(choice_biases, itr, axis=1)\n",
    "    choice_biases_expanded = np.expand_dims(choice_biases, axis=1)\n",
    "    choice_biases_expanded = np.repeat(choice_biases_expanded, 30, axis=1)\n",
    "\n",
    "    # Generate feedback (item x feedback-pertinent trial x iteration)\n",
    "    feedback = np.random.choice([0,1], size=(20,29,itr), p=[0.2,0.8]) \n",
    "    feedback_cumulative = np.cumsum(feedback, axis=1)\n",
    "\n",
    "    # Generate list of trial numbers to use for the binomial calculation (item x trial x iteration)\n",
    "    trial_numbers = np.expand_dims(np.arange(0,30), axis=1)\n",
    "    trial_numbers = np.repeat(trial_numbers, itr, axis=1)\n",
    "    trial_numbers_expanded = np.expand_dims(trial_numbers, axis=0)\n",
    "    trial_numbers_expanded = np.repeat(trial_numbers_expanded, 20, axis=0)\n",
    "\n",
    "    # Calculate Bayesian probabilities of correct item being correct\n",
    "    bayes_probs = np.empty((20,30,itr))\n",
    "    bayes_probs[:,0,:] = learning_priors\n",
    "    bayes_probs[:,1:,:] = prob(learning_priors_expanded, trial_numbers_expanded[:,1:,:], feedback_cumulative)\n",
    "\n",
    "    # Calculate probabilities of correct responses\n",
    "    response_correct = np.empty((20,30,itr))\n",
    "    response_correct = correct_prob(bayes_probs, threshold, choice_biases_expanded, drift_weight)\n",
    "\n",
    "    response_correct_means = np.mean(response_correct, axis=(0,2))\n",
    "    \n",
    "    return response_correct_means"
   ]
  },
  {
   "cell_type": "code",
   "execution_count": 420,
   "metadata": {},
   "outputs": [],
   "source": [
    "def simulate_null(itr, drift_weight, threshold):\n",
    "\n",
    "    # Generate array of learning priors (item x iteration)\n",
    "    learning_priors = np.empty(20)\n",
    "    learning_priors.fill(0.5)\n",
    "\n",
    "    learning_priors = np.expand_dims(learning_priors, axis=1)\n",
    "    learning_priors = np.repeat(learning_priors, itr, axis=1)\n",
    "    learning_priors_expanded = np.expand_dims(learning_priors, axis=1)\n",
    "    learning_priors_expanded = np.repeat(learning_priors_expanded, 29, axis=1)\n",
    "\n",
    "    # Generate array of choice biases (item x iteration)\n",
    "    choice_biases = np.empty(20)\n",
    "    choice_biases.fill(0.5)\n",
    "\n",
    "    choice_biases = np.expand_dims(choice_biases, axis=1)\n",
    "    choice_biases = np.repeat(choice_biases, itr, axis=1)\n",
    "    choice_biases_expanded = np.expand_dims(choice_biases, axis=1)\n",
    "    choice_biases_expanded = np.repeat(choice_biases_expanded, 30, axis=1)\n",
    "\n",
    "    # Generate feedback (item x feedback-pertinent trial x iteration)\n",
    "    feedback = np.random.choice([0,1], size=(20,29,itr), p=[0.2,0.8]) \n",
    "    feedback_cumulative = np.cumsum(feedback, axis=1)\n",
    "\n",
    "    # Generate list of trial numbers to use for the binomial calculation (item x trial x iteration)\n",
    "    trial_numbers = np.expand_dims(np.arange(0,30), axis=1)\n",
    "    trial_numbers = np.repeat(trial_numbers, itr, axis=1)\n",
    "    trial_numbers_expanded = np.expand_dims(trial_numbers, axis=0)\n",
    "    trial_numbers_expanded = np.repeat(trial_numbers_expanded, 20, axis=0)\n",
    "\n",
    "    # Calculate Bayesian probabilities of correct item being correct\n",
    "    bayes_probs = np.empty((20,30,itr))\n",
    "    bayes_probs[:,0,:] = learning_priors\n",
    "    bayes_probs[:,1:,:] = prob(learning_priors_expanded, trial_numbers_expanded[:,1:,:], feedback_cumulative)\n",
    "\n",
    "    # Calculate probabilities of correct responses\n",
    "    response_correct = np.empty((20,30,itr))\n",
    "    response_correct = correct_prob(bayes_probs, threshold, choice_biases_expanded, drift_weight)\n",
    "\n",
    "    response_correct_means = np.mean(response_correct, axis=(0,2))\n",
    "    \n",
    "    return response_correct_means"
   ]
  },
  {
   "cell_type": "code",
   "execution_count": 436,
   "metadata": {},
   "outputs": [],
   "source": [
    "def simulate_dual(itr, dv_correct, drift_weight, learning_prior_temp, choice_bias_temp, threshold, ):\n",
    "\n",
    "    # Generate array of learning priors (item x iteration)\n",
    "\n",
    "    learning_priors = softmax(learning_prior_temp*dv_correct)\n",
    "    learning_priors = np.expand_dims(learning_priors, axis=1)\n",
    "    learning_priors = np.repeat(learning_priors, itr, axis=1)\n",
    "    learning_priors_expanded = np.expand_dims(learning_priors, axis=1)\n",
    "    learning_priors_expanded = np.repeat(learning_priors_expanded, 29, axis=1)\n",
    "\n",
    "    # Generate array of choice biases (item x iteration)\n",
    "\n",
    "    choice_biases = softmax(choice_bias_temp*dv_correct)\n",
    "    choice_biases = np.expand_dims(choice_biases, axis=1)\n",
    "    choice_biases = np.repeat(choice_biases, itr, axis=1)\n",
    "    choice_biases_expanded = np.expand_dims(choice_biases, axis=1)\n",
    "    choice_biases_expanded = np.repeat(choice_biases_expanded, 30, axis=1)\n",
    "\n",
    "    # Generate feedback (item x feedback-pertinent trial x iteration)\n",
    "    feedback = np.random.choice([0,1], size=(20,29,itr), p=[0.2,0.8]) \n",
    "    feedback_cumulative = np.cumsum(feedback, axis=1)\n",
    "\n",
    "    # Generate list of trial numbers to use for the binomial calculation (item x trial x iteration)\n",
    "    trial_numbers = np.expand_dims(np.arange(0,30), axis=1)\n",
    "    trial_numbers = np.repeat(trial_numbers, itr, axis=1)\n",
    "    trial_numbers_expanded = np.expand_dims(trial_numbers, axis=0)\n",
    "    trial_numbers_expanded = np.repeat(trial_numbers_expanded, 20, axis=0)\n",
    "\n",
    "    # Calculate Bayesian probabilities of correct item being correct\n",
    "    bayes_probs = np.empty((20,30,itr))\n",
    "    bayes_probs[:,0,:] = learning_priors\n",
    "    bayes_probs[:,1:,:] = prob(learning_priors_expanded, trial_numbers_expanded[:,1:,:], feedback_cumulative)\n",
    "\n",
    "    # Calculate probabilities of correct responses\n",
    "    response_correct = np.empty((20,30,itr))\n",
    "    response_correct = correct_prob(bayes_probs, threshold, choice_biases_expanded, drift_weight)\n",
    "\n",
    "    response_correct_means = np.mean(response_correct, axis=(0,2))\n",
    "    \n",
    "    return response_correct_means"
   ]
  },
  {
   "cell_type": "markdown",
   "metadata": {},
   "source": [
    "#Simulate estimated models"
   ]
  },
  {
   "cell_type": "code",
   "execution_count": 421,
   "metadata": {
    "collapsed": true
   },
   "outputs": [],
   "source": [
    "# means of group mean parameters from dual influence + pop_dual_influenced\n",
    "drift_weight = 1.85814825e+00\n",
    "learning_prior_temp = 3.12479250e-01\n",
    "choice_bias_temp = 1.70402441e-01\n",
    "threshold = 2.13136058e+00\n",
    "popularity_prior_temp = 7.04640520e-02\n",
    "popularity_bias_temp = -7.16883805e-02"
   ]
  },
  {
   "cell_type": "markdown",
   "metadata": {},
   "source": [
    "Note that the simulations below use the parameter estimates from the dual influence+popularity_dual_influenced model, replacing them with neutral alternatives where necessary, for a fairer comparison. This is because we want to compare not the fits of the alternative models, but what performance would look like if the parameters of the best-fitting model were replaced with unbiased alternatives."
   ]
  },
  {
   "cell_type": "markdown",
   "metadata": {},
   "source": [
    "##Run simulations"
   ]
  },
  {
   "cell_type": "code",
   "execution_count": null,
   "metadata": {
    "collapsed": true
   },
   "outputs": [],
   "source": [
    "# Load pickles if already saved\n",
    "null_simulation = np.load('simulation_pickles/null_simulation.npy')\n",
    "null_simulation_mean = np.mean(null_simulation, axis=0)\n",
    "\n",
    "dual_simulation = np.load('simulation_pickles/dual_simulation.npy')\n",
    "dual_simulation_mean = np.mean(dual_simulation, axis=0)\n",
    "\n",
    "pop_choice_simulation = np.load('simulation_pickles/pop_choice_simulation.npy')\n",
    "pop_choice_simulation_mean = np.mean(pop_choice_simulation, axis=0)\n",
    "\n",
    "pop_prior_simulation = np.load('simulation_pickles/pop_prior_simulation.npy')\n",
    "pop_prior_simulation_mean = np.mean(pop_prior_simulation, axis=0)\n",
    "\n",
    "pop_dual_simulation = np.load('simulation_pickles/pop_dual_simulation.npy')\n",
    "pop_dual_simulation_mean = np.mean(pop_dual_simulation, axis=0)"
   ]
  },
  {
   "cell_type": "code",
   "execution_count": 441,
   "metadata": {
    "collapsed": false
   },
   "outputs": [
    {
     "name": "stdout",
     "output_type": "stream",
     "text": [
      "Done neutral\n"
     ]
    }
   ],
   "source": [
    "# Neutral\n",
    "null_simulation = np.empty((3660,30))\n",
    "for i in range(3660):\n",
    "    null_simulation[i,:] = simulate_null(1000,drift_weight,threshold)\n",
    "null_simulation_mean = np.mean(null_simulation, axis=0)\n",
    "np.save('simulation_pickles/null_simulation.npy', null_simulation)\n",
    "print ('Done neutral')"
   ]
  },
  {
   "cell_type": "code",
   "execution_count": 442,
   "metadata": {
    "collapsed": false
   },
   "outputs": [
    {
     "name": "stdout",
     "output_type": "stream",
     "text": [
      "Done dual\n"
     ]
    }
   ],
   "source": [
    "# Dual influence\n",
    "dual_simulation = np.empty((3660,30))\n",
    "for i in range(3660):\n",
    "    dual_simulation[i,:] = simulate_dual(1000, dv_correct_all_matches[i], drift_weight, learning_prior_temp,\n",
    "                                    choice_bias_temp, threshold)\n",
    "dual_simulation_mean = np.mean(dual_simulation, axis=0)\n",
    "np.save('simulation_pickles/dual_simulation.npy', dual_simulation)\n",
    "print ('Done dual')"
   ]
  },
  {
   "cell_type": "code",
   "execution_count": 521,
   "metadata": {
    "collapsed": false
   },
   "outputs": [
    {
     "name": "stdout",
     "output_type": "stream",
     "text": [
      "Done pop_choice\n"
     ]
    }
   ],
   "source": [
    "# Dual influence + pop_influenced_choice\n",
    "pop_choice_simulation = np.empty((3660,30))\n",
    "for i in range(3660):\n",
    "    pop_choice_simulation[i,:] = simulate(1000, dv_correct_all_matches[i], drift_weight, learning_prior_temp,\n",
    "                                    choice_bias_temp, threshold, 0, popularity_bias_temp , item_popularity_correct_all_matches[i])\n",
    "pop_choice_simulation_mean = np.mean(pop_choice_simulation, axis=0)\n",
    "np.save('simulation_pickles/pop_choice_simulation.npy', pop_choice_simulation)\n",
    "print ('Done pop_choice')"
   ]
  },
  {
   "cell_type": "code",
   "execution_count": 522,
   "metadata": {},
   "outputs": [
    {
     "name": "stdout",
     "output_type": "stream",
     "text": [
      "Done pop_prior\n"
     ]
    }
   ],
   "source": [
    "# Dual influence + pop_influenced_prior\n",
    "pop_prior_simulation = np.empty((3660,30))\n",
    "for i in range(3660):\n",
    "    pop_prior_simulation[i,:] = simulate(1000, dv_correct_all_matches[i], drift_weight, learning_prior_temp,\n",
    "                                    choice_bias_temp, threshold, popularity_prior_temp, 0 , item_popularity_correct_all_matches[i])\n",
    "pop_prior_simulation_mean = np.mean(pop_prior_simulation, axis=0)\n",
    "np.save('simulation_pickles/pop_prior_simulation.npy', pop_prior_simulation)\n",
    "print ('Done pop_prior')"
   ]
  },
  {
   "cell_type": "code",
   "execution_count": 460,
   "metadata": {
    "collapsed": false
   },
   "outputs": [
    {
     "name": "stdout",
     "output_type": "stream",
     "text": [
      "Done pop_dual\n"
     ]
    }
   ],
   "source": [
    "# Dual influence + pop_dual_influenced\n",
    "pop_dual_simulation = np.empty((3660,30))\n",
    "for i in range(3660):\n",
    "    pop_dual_simulation[i,:] = simulate(1000, dv_correct_all_matches[i], drift_weight, learning_prior_temp,\n",
    "                                    choice_bias_temp, threshold, popularity_prior_temp, popularity_bias_temp , item_popularity_correct_all_matches[i])\n",
    "pop_dual_simulation_mean = np.mean(pop_dual_simulation, axis=0)\n",
    "np.save('simulation_pickles/pop_dual_simulation.npy', pop_dual_simulation)\n",
    "print ('Done pop_dual')"
   ]
  },
  {
   "cell_type": "code",
   "execution_count": 531,
   "metadata": {
    "collapsed": false
   },
   "outputs": [
    {
     "name": "stdout",
     "output_type": "stream",
     "text": [
      "559.953740368672 0.0\n",
      "561.7822704809325 0.0032655020949707045\n",
      "561.5793954059035 0.002903195246380859\n",
      "561.9023887349263 0.0034800166973994865\n",
      "561.7101153009143 0.0031366429146198805\n",
      "\n",
      "1.9593012569824226\n",
      "1.7419171478285156\n",
      "2.0880100184396917\n",
      "1.8819857487719283\n"
     ]
    }
   ],
   "source": [
    "print (np.sum(null_simulation_mean)*20, ((np.sum(null_simulation_mean) - np.sum(null_simulation_mean)) / np.sum(null_simulation_mean)))\n",
    "print (np.sum(dual_simulation_mean)*20, ((np.sum(dual_simulation_mean) - np.sum(null_simulation_mean)) / np.sum(null_simulation_mean)))\n",
    "print (np.sum(pop_choice_simulation_mean)*20, ((np.sum(pop_choice_simulation_mean) - np.sum(null_simulation_mean)) / np.sum(null_simulation_mean)))\n",
    "print (np.sum(pop_prior_simulation_mean)*20, ((np.sum(pop_prior_simulation_mean) - np.sum(null_simulation_mean)) / np.sum(null_simulation_mean)))\n",
    "print (np.sum(pop_dual_simulation_mean)*20, ((np.sum(pop_dual_simulation_mean) - np.sum(null_simulation_mean)) / np.sum(null_simulation_mean)))\n",
    "print ('')\n",
    "print (((np.sum(dual_simulation_mean) - np.sum(null_simulation_mean)) / np.sum(null_simulation_mean))*600)\n",
    "print (((np.sum(pop_choice_simulation_mean) - np.sum(null_simulation_mean)) / np.sum(null_simulation_mean))*600)\n",
    "print (((np.sum(pop_prior_simulation_mean) - np.sum(null_simulation_mean)) / np.sum(null_simulation_mean))*600)\n",
    "print (((np.sum(pop_dual_simulation_mean) - np.sum(null_simulation_mean)) / np.sum(null_simulation_mean))*600)"
   ]
  },
  {
   "cell_type": "markdown",
   "metadata": {},
   "source": [
    "# Plot % point advantage of each model compared to null model"
   ]
  },
  {
   "cell_type": "code",
   "execution_count": 632,
   "metadata": {
    "collapsed": false
   },
   "outputs": [
    {
     "data": {
      "image/png": "[encoded data removed]",
      "text/plain": [
       "<Figure size 648x576 with 1 Axes>"
      ]
     },
     "metadata": {},
     "output_type": "display_data"
    }
   ],
   "source": [
    "\n",
    "\n",
    "sns.set_context(\"poster\")\n",
    "sns.set_style(\"white\", {\"grid.linewidth\": 0})\n",
    "pl.rcParams['figure.figsize'] = (9.0, 8.0)\n",
    "ax = plt.subplot()\n",
    "plt.plot(range(1,31),(pop_prior_simulation_mean - null_simulation_mean)*100, color=sns.xkcd_rgb['denim blue'], linewidth=3)\n",
    "plt.plot(range(1,31),(dual_simulation_mean - null_simulation_mean)*100, color=sns.xkcd_rgb['pink'], linewidth=3)\n",
    "plt.plot(range(1,31),(pop_dual_simulation_mean - null_simulation_mean)*100, color=sns.xkcd_rgb['scarlet'], linewidth=3)\n",
    "plt.plot(range(1,31),(pop_choice_simulation_mean - null_simulation_mean)*100, color=sns.xkcd_rgb['gold'], linewidth=3)\n",
    "plt.xlim((1,30))\n",
    "plt.axhline(y=0, color='grey', linestyle='dashed')\n",
    "\n",
    "plt.ylim((-1,5))\n",
    "plt.ylabel('% point advantage', size=24)\n",
    "plt.xlabel('Trial', size=24)\n",
    "\n",
    "dual_patch = mpatches.Patch(color=sns.xkcd_rgb['pink'], label='dual')\n",
    "pop_prior_patch = mpatches.Patch(color=sns.xkcd_rgb['denim blue'], label='pop_prior')\n",
    "pop_bias_patch = mpatches.Patch(color=sns.xkcd_rgb['gold'], label='pop_bias')\n",
    "pop_dual_patch = mpatches.Patch(color=sns.xkcd_rgb['scarlet'], label='pop_dual')\n",
    "plt.tick_params(axis='both', which='both', labelsize=20)\n",
    "plt.legend(handles=[dual_patch, pop_prior_patch, pop_bias_patch,pop_dual_patch], bbox_to_anchor=(0.3,1), loc=9, fontsize=24)\n",
    "#plt.title('Actual Preference Data',size=34, position=[0.5,1.05])\n",
    "ax.spines['top'].set_visible(False)\n",
    "ax.spines['right'].set_visible(False)\n",
    "plt.savefig('figures/simulation_performance_advantages.svg')"
   ]
  },
  {
   "cell_type": "markdown",
   "metadata": {},
   "source": [
    "# Plot % advantage of each model in the first, middle, and last 10 trials."
   ]
  },
  {
   "cell_type": "markdown",
   "metadata": {},
   "source": [
    "#calculate  % advantage of each model in the first, middle, and last 10 trials."
   ]
  },
  {
   "cell_type": "code",
   "execution_count": 548,
   "metadata": {
    "collapsed": false
   },
   "outputs": [
    {
     "name": "stdout",
     "output_type": "stream",
     "text": [
      "0.0007058628259101529\n",
      "0.0009785509945964277\n",
      "0.007458236740796331\n"
     ]
    }
   ],
   "source": [
    "dual_advantage_last10 = (dual_simulation_mean - null_simulation_mean)[20:].mean()\n",
    "print(dual_advantage_last10)\n",
    "dual_advantage_mid10 = (dual_simulation_mean - null_simulation_mean)[10:20].mean()\n",
    "print(dual_advantage_mid10)\n",
    "dual_advantage_first10 = (dual_simulation_mean - null_simulation_mean)[:10].mean()\n",
    "print(dual_advantage_first10)"
   ]
  },
  {
   "cell_type": "code",
   "execution_count": 549,
   "metadata": {
    "collapsed": false
   },
   "outputs": [
    {
     "name": "stdout",
     "output_type": "stream",
     "text": [
      "0.0004904070233699431\n",
      "0.0007408891734639322\n",
      "0.006896978989323977\n"
     ]
    }
   ],
   "source": [
    "pop_choice_advantage_last10 = (pop_choice_simulation_mean - null_simulation_mean)[20:].mean()\n",
    "print(pop_choice_advantage_last10)\n",
    "pop_choice_advantage_mid10 = (pop_choice_simulation_mean - null_simulation_mean)[10:20].mean()\n",
    "print(pop_choice_advantage_mid10)\n",
    "pop_choice_advantage_first10 = (pop_choice_simulation_mean - null_simulation_mean)[:10].mean()\n",
    "print(pop_choice_advantage_first10)"
   ]
  },
  {
   "cell_type": "code",
   "execution_count": 550,
   "metadata": {
    "collapsed": false
   },
   "outputs": [
    {
     "name": "stdout",
     "output_type": "stream",
     "text": [
      "0.0007057808963060408\n",
      "0.0009858578381775507\n",
      "0.008051603096788772\n"
     ]
    }
   ],
   "source": [
    "pop_prior_advantage_last10 = (pop_prior_simulation_mean - null_simulation_mean)[20:].mean()\n",
    "print(pop_prior_advantage_last10)\n",
    "pop_prior_advantage_mid10 = (pop_prior_simulation_mean - null_simulation_mean)[10:20].mean()\n",
    "print(pop_prior_advantage_mid10)\n",
    "pop_prior_advantage_first10 = (pop_prior_simulation_mean - null_simulation_mean)[:10].mean()\n",
    "print(pop_prior_advantage_first10)"
   ]
  },
  {
   "cell_type": "code",
   "execution_count": 551,
   "metadata": {},
   "outputs": [
    {
     "name": "stdout",
     "output_type": "stream",
     "text": [
      "0.0004874965735226167\n",
      "0.0007607206178583236\n",
      "0.007533657469830779\n"
     ]
    }
   ],
   "source": [
    "pop_dual_advantage_last10 = (pop_dual_simulation_mean - null_simulation_mean)[20:].mean()\n",
    "print(pop_dual_advantage_last10)\n",
    "pop_dual_advantage_mid10 = (pop_dual_simulation_mean - null_simulation_mean)[10:20].mean()\n",
    "print(pop_dual_advantage_mid10)\n",
    "pop_dual_advantage_first10 = (pop_dual_simulation_mean - null_simulation_mean)[:10].mean()\n",
    "print(pop_dual_advantage_first10)"
   ]
  },
  {
   "cell_type": "code",
   "execution_count": 634,
   "metadata": {
    "collapsed": false
   },
   "outputs": [
    {
     "name": "stderr",
     "output_type": "stream",
     "text": [
      "C:\\ProgramData\\Anaconda\\lib\\site-packages\\matplotlib\\cbook\\__init__.py:424: MatplotlibDeprecationWarning: \n",
      "Passing one of 'on', 'true', 'off', 'false' as a boolean is deprecated; use an actual boolean (True/False) instead.\n",
      "  warn_deprecated(\"2.2\", \"Passing one of 'on', 'true', 'off', 'false' as a \"\n",
      "C:\\ProgramData\\Anaconda\\lib\\site-packages\\matplotlib\\cbook\\__init__.py:424: MatplotlibDeprecationWarning: \n",
      "Passing one of 'on', 'true', 'off', 'false' as a boolean is deprecated; use an actual boolean (True/False) instead.\n",
      "  warn_deprecated(\"2.2\", \"Passing one of 'on', 'true', 'off', 'false' as a \"\n",
      "C:\\ProgramData\\Anaconda\\lib\\site-packages\\matplotlib\\cbook\\__init__.py:424: MatplotlibDeprecationWarning: \n",
      "Passing one of 'on', 'true', 'off', 'false' as a boolean is deprecated; use an actual boolean (True/False) instead.\n",
      "  warn_deprecated(\"2.2\", \"Passing one of 'on', 'true', 'off', 'false' as a \"\n"
     ]
    },
    {
     "data": {
      "image/png": "[encoded data removed]",
      "text/plain": [
       "<Figure size 360x288 with 1 Axes>"
      ]
     },
     "metadata": {},
     "output_type": "display_data"
    }
   ],
   "source": [
    "ax = plt.figure(figsize=(5,4))\n",
    "plt.tick_params(\n",
    "    axis='both',          # changes apply to the x-axis\n",
    "    which='both',      # both major and minor ticks are affected\n",
    "    bottom='off',      # ticks along the bottom edge are off\n",
    "    top='off',  # ticks along the top edge are off\n",
    "    labelbottom='off')\n",
    "plt.tick_params(axis='y', which='both', labelsize=20)\n",
    "plt.bar(range(4),[pop_dual_advantage_last10*100, pop_choice_advantage_last10*100, pop_prior_advantage_last10*100, dual_advantage_last10*100], width=0.7, align='center', color=[sns.xkcd_rgb['scarlet'],sns.xkcd_rgb['gold'],sns.xkcd_rgb['denim blue'],sns.xkcd_rgb['pink']])\n",
    "plt.ylim((-0.03,0.15))\n",
    "plt.yticks([0,0.1])\n",
    "plt.axhline(y=0, color='grey', linestyle='dashed')\n",
    "plt.title('Last ten trials', size=24)\n",
    "ax.text(0.15,0.2,'pop_dual', size=13, color='black')\n",
    "ax.text(0.33,0.2,'pop_bias', size=13, color='black')\n",
    "ax.text(0.53,0.2,'pop_prior', size=13, color='black')\n",
    "ax.text(0.76,0.2,'dual', size=13, color='black')\n",
    "plt.savefig('figures/simulation_performance_advantages_last10.svg', bbox_inches='tight')"
   ]
  },
  {
   "cell_type": "code",
   "execution_count": 635,
   "metadata": {},
   "outputs": [
    {
     "name": "stderr",
     "output_type": "stream",
     "text": [
      "C:\\ProgramData\\Anaconda\\lib\\site-packages\\matplotlib\\cbook\\__init__.py:424: MatplotlibDeprecationWarning: \n",
      "Passing one of 'on', 'true', 'off', 'false' as a boolean is deprecated; use an actual boolean (True/False) instead.\n",
      "  warn_deprecated(\"2.2\", \"Passing one of 'on', 'true', 'off', 'false' as a \"\n",
      "C:\\ProgramData\\Anaconda\\lib\\site-packages\\matplotlib\\cbook\\__init__.py:424: MatplotlibDeprecationWarning: \n",
      "Passing one of 'on', 'true', 'off', 'false' as a boolean is deprecated; use an actual boolean (True/False) instead.\n",
      "  warn_deprecated(\"2.2\", \"Passing one of 'on', 'true', 'off', 'false' as a \"\n",
      "C:\\ProgramData\\Anaconda\\lib\\site-packages\\matplotlib\\cbook\\__init__.py:424: MatplotlibDeprecationWarning: \n",
      "Passing one of 'on', 'true', 'off', 'false' as a boolean is deprecated; use an actual boolean (True/False) instead.\n",
      "  warn_deprecated(\"2.2\", \"Passing one of 'on', 'true', 'off', 'false' as a \"\n"
     ]
    },
    {
     "data": {
      "image/png": "[encoded data removed]",
      "text/plain": [
       "<Figure size 360x288 with 1 Axes>"
      ]
     },
     "metadata": {},
     "output_type": "display_data"
    }
   ],
   "source": [
    "ax = plt.figure(figsize=(5,4))\n",
    "plt.tick_params(\n",
    "    axis='both',          # changes apply to the x-axis\n",
    "    which='both',      # both major and minor ticks are affected\n",
    "    bottom='off',      # ticks along the bottom edge are off\n",
    "    top='off',  # ticks along the top edge are off\n",
    "    labelbottom='off')\n",
    "plt.tick_params(axis='y', which='both', labelsize=20)\n",
    "plt.bar(range(4),[pop_dual_advantage_mid10*100, pop_choice_advantage_mid10*100, pop_prior_advantage_mid10*100, dual_advantage_mid10*100], width=0.7, align='center', color=[sns.xkcd_rgb['scarlet'],sns.xkcd_rgb['gold'],sns.xkcd_rgb['denim blue'],sns.xkcd_rgb['pink']])\n",
    "plt.ylim((-0.03,0.15))\n",
    "plt.yticks([0,0.1])\n",
    "plt.axhline(y=0, color='grey', linestyle='dashed')\n",
    "plt.title('Middle ten trials', size=24)\n",
    "ax.text(0.15,0.2,'pop_dual', size=13, color='black')\n",
    "ax.text(0.33,0.2,'pop_bias', size=13, color='black')\n",
    "ax.text(0.53,0.2,'pop_prior', size=13, color='black')\n",
    "ax.text(0.76,0.2,'dual', size=13, color='black')\n",
    "plt.savefig('figures/simulation_performance_advantages_mid10.svg', bbox_inches='tight')"
   ]
  },
  {
   "cell_type": "code",
   "execution_count": 636,
   "metadata": {},
   "outputs": [
    {
     "name": "stderr",
     "output_type": "stream",
     "text": [
      "C:\\ProgramData\\Anaconda\\lib\\site-packages\\matplotlib\\cbook\\__init__.py:424: MatplotlibDeprecationWarning: \n",
      "Passing one of 'on', 'true', 'off', 'false' as a boolean is deprecated; use an actual boolean (True/False) instead.\n",
      "  warn_deprecated(\"2.2\", \"Passing one of 'on', 'true', 'off', 'false' as a \"\n",
      "C:\\ProgramData\\Anaconda\\lib\\site-packages\\matplotlib\\cbook\\__init__.py:424: MatplotlibDeprecationWarning: \n",
      "Passing one of 'on', 'true', 'off', 'false' as a boolean is deprecated; use an actual boolean (True/False) instead.\n",
      "  warn_deprecated(\"2.2\", \"Passing one of 'on', 'true', 'off', 'false' as a \"\n",
      "C:\\ProgramData\\Anaconda\\lib\\site-packages\\matplotlib\\cbook\\__init__.py:424: MatplotlibDeprecationWarning: \n",
      "Passing one of 'on', 'true', 'off', 'false' as a boolean is deprecated; use an actual boolean (True/False) instead.\n",
      "  warn_deprecated(\"2.2\", \"Passing one of 'on', 'true', 'off', 'false' as a \"\n"
     ]
    },
    {
     "data": {
      "image/png": "[encoded data removed]",
      "text/plain": [
       "<Figure size 360x288 with 1 Axes>"
      ]
     },
     "metadata": {},
     "output_type": "display_data"
    }
   ],
   "source": [
    "ax = plt.figure(figsize=(5,4))\n",
    "plt.tick_params(\n",
    "    axis='both',          # changes apply to the x-axis\n",
    "    which='both',      # both major and minor ticks are affected\n",
    "    bottom='off',      # ticks along the bottom edge are off\n",
    "    top='off',  # ticks along the top edge are off\n",
    "    labelbottom='off')\n",
    "plt.tick_params(axis='y', which='both', labelsize=20)\n",
    "plt.bar(range(4),[pop_dual_advantage_first10*100, pop_choice_advantage_first10*100, pop_prior_advantage_first10*100, dual_advantage_first10*100], width=0.7, align='center', color=[sns.xkcd_rgb['scarlet'],sns.xkcd_rgb['gold'],sns.xkcd_rgb['denim blue'],sns.xkcd_rgb['pink']])\n",
    "plt.ylim((-0.25,1.05))\n",
    "plt.yticks([0, 0.4,0.8])\n",
    "plt.axhline(y=0, color='grey', linestyle='dashed')\n",
    "plt.title('First ten trials', size=24)\n",
    "ax.text(0.15,0.20,'pop_dual', size=13, color='black')\n",
    "ax.text(0.33,0.20,'pop_bias', size=13, color='black')\n",
    "ax.text(0.53,0.20,'pop_prior', size=13, color='black')\n",
    "ax.text(0.76,0.20,'dual', size=13, color='black')\n",
    "plt.savefig('figures/simulation_performance_advantages_first10.svg', bbox_inches='tight')"
   ]
  }
 ],
 "metadata": {
  "kernelspec": {
   "display_name": "Python 3",
   "language": "python",
   "name": "python3"
  },
  "language_info": {
   "codemirror_mode": {
    "name": "ipython",
    "version": 3
   },
   "file_extension": ".py",
   "mimetype": "text/x-python",
   "name": "python",
   "nbconvert_exporter": "python",
   "pygments_lexer": "ipython3",
   "version": "3.7.3"
  }
 },
 "nbformat": 4,
 "nbformat_minor": 2
}
